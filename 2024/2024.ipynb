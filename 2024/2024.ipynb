{
 "cells": [
  {
   "cell_type": "markdown",
   "id": "74632285-e9e2-4c60-af5c-f0aad3288d91",
   "metadata": {},
   "source": [
    "# Day 1"
   ]
  },
  {
   "cell_type": "code",
   "execution_count": 1,
   "id": "98b5caca-6916-43e1-8bff-7311d35f9b43",
   "metadata": {},
   "outputs": [
    {
     "name": "stdout",
     "output_type": "stream",
     "text": [
      "Day01 part 1 answer: 1151792\n",
      "Day01 part 2 answer: 21790168\n"
     ]
    }
   ],
   "source": [
    "!python ./d01/solutions.py"
   ]
  },
  {
   "cell_type": "markdown",
   "id": "e2d3cb78-7b7c-487e-aef6-930005631949",
   "metadata": {},
   "source": [
    "# Day 2"
   ]
  },
  {
   "cell_type": "code",
   "execution_count": 2,
   "id": "10d88038-7d11-4775-af6f-5dda2048bf94",
   "metadata": {},
   "outputs": [
    {
     "name": "stdout",
     "output_type": "stream",
     "text": [
      "Day02 part 1 answer: 407\n",
      "Day02 part 2 answer: 459\n"
     ]
    }
   ],
   "source": [
    "!python ./d02/solutions.py"
   ]
  },
  {
   "cell_type": "markdown",
   "id": "ab3597eb-1a65-4296-aaa2-d712f4568682",
   "metadata": {},
   "source": [
    "# Day 3"
   ]
  },
  {
   "cell_type": "code",
   "execution_count": 3,
   "id": "c9f7a625-82cc-43c4-b676-f33cdec7719a",
   "metadata": {},
   "outputs": [
    {
     "name": "stdout",
     "output_type": "stream",
     "text": [
      "Day03 part 1 answer: 166630675\n",
      "Day03 part 2 answer: 93465710\n"
     ]
    }
   ],
   "source": [
    "!python ./d03/solutions.py"
   ]
  },
  {
   "cell_type": "markdown",
   "id": "2d75169b-aa2c-4199-ad99-0b1876f6edbd",
   "metadata": {},
   "source": [
    "# Day 4"
   ]
  },
  {
   "cell_type": "code",
   "execution_count": 4,
   "id": "ba3e4fd3-6351-4334-b3dc-f3af72d79db4",
   "metadata": {},
   "outputs": [
    {
     "name": "stdout",
     "output_type": "stream",
     "text": [
      "Day04 part 1 answer: 2344\n",
      "Day04 part 2 answer: 1815\n"
     ]
    }
   ],
   "source": [
    "!python ./d04/solutions.py"
   ]
  },
  {
   "cell_type": "markdown",
   "id": "f7fd28a6-f538-43b6-bff1-831dfa83c18d",
   "metadata": {},
   "source": [
    "# Day 5"
   ]
  },
  {
   "cell_type": "code",
   "execution_count": 5,
   "id": "a3958dd2-aced-4134-8188-30180d0896eb",
   "metadata": {},
   "outputs": [
    {
     "name": "stdout",
     "output_type": "stream",
     "text": [
      "Day05 part 1 answer: 5208\n",
      "Day05 part 2 answer: 6732\n"
     ]
    }
   ],
   "source": [
    "!python ./d05/solutions.py"
   ]
  },
  {
   "cell_type": "markdown",
   "id": "9751dcbe-5a66-4a68-8770-9ae92c824abb",
   "metadata": {},
   "source": [
    "# Day 6"
   ]
  },
  {
   "cell_type": "code",
   "execution_count": 6,
   "id": "5203afb5-024d-4966-bd42-1ac8034c4ada",
   "metadata": {},
   "outputs": [
    {
     "name": "stdout",
     "output_type": "stream",
     "text": [
      "Part 1 result: 5318\n",
      "100%|█████████████████████████████████████████| 130/130 [01:06<00:00,  1.96it/s]\n",
      "Part 2 result: 1831\n"
     ]
    }
   ],
   "source": [
    "!python ./d06/solutions.py"
   ]
  },
  {
   "cell_type": "markdown",
   "id": "a50be5f3-d089-480c-a4d1-302bc370b659",
   "metadata": {},
   "source": [
    "# Day 7"
   ]
  },
  {
   "cell_type": "code",
   "execution_count": 7,
   "id": "0d49c859-c061-45ae-b3fd-1c07b5031bf8",
   "metadata": {},
   "outputs": [
    {
     "name": "stdout",
     "output_type": "stream",
     "text": [
      "100%|███████████████████████████████████████| 850/850 [00:00<00:00, 3666.31it/s]\n",
      "Day06 part 1 answer: 1545311493300\n",
      "100%|█████████████████████████████████████████| 850/850 [00:32<00:00, 26.16it/s]\n",
      "Day06 part 2 answer: 169122112716571\n"
     ]
    }
   ],
   "source": [
    "!python ./d07/solutions.py"
   ]
  },
  {
   "cell_type": "markdown",
   "id": "f57bd99f-aa33-40fd-a72c-a997532c77ce",
   "metadata": {},
   "source": [
    "# Day 8\n"
   ]
  },
  {
   "cell_type": "code",
   "execution_count": 8,
   "id": "1527da98-e950-4468-9f68-9405bf3d0bfa",
   "metadata": {},
   "outputs": [
    {
     "name": "stdout",
     "output_type": "stream",
     "text": [
      "Day08 part 1 answer: 220\n",
      "Day08 part 2 answer: 813\n"
     ]
    }
   ],
   "source": [
    "!python ./d08/solutions.py"
   ]
  },
  {
   "cell_type": "markdown",
   "id": "89da7360-1f0f-4d46-ac66-c835d8d098d6",
   "metadata": {},
   "source": [
    "# Day 9"
   ]
  },
  {
   "cell_type": "code",
   "execution_count": 9,
   "id": "a4a31c32-a647-4784-805c-2a49238e0e43",
   "metadata": {},
   "outputs": [
    {
     "name": "stdout",
     "output_type": "stream",
     "text": [
      "Day09 part 1 answer: 6382875730645\n",
      "Day09 part 2 answer: 6420913943576\n"
     ]
    }
   ],
   "source": [
    "!python ./d09/solutions.py"
   ]
  },
  {
   "cell_type": "markdown",
   "id": "52da9bea-d9e8-41fe-8668-a912b128a12b",
   "metadata": {},
   "source": [
    "# Day 10"
   ]
  },
  {
   "cell_type": "code",
   "execution_count": 10,
   "id": "8b4c0e13-db90-4bb9-8cf1-49787d9f2b6b",
   "metadata": {},
   "outputs": [
    {
     "name": "stdout",
     "output_type": "stream",
     "text": [
      "Day10 part 1 answer: 778\n",
      "Day10 part 2 answer: 1925\n"
     ]
    }
   ],
   "source": [
    "!python ./d10/solutions.py"
   ]
  },
  {
   "cell_type": "markdown",
   "id": "c7d26f6d-4c76-43f7-97ed-94990d6ceb69",
   "metadata": {},
   "source": [
    "# Day 11"
   ]
  },
  {
   "cell_type": "code",
   "execution_count": 11,
   "id": "590fc4fa-cdce-40dc-988e-773628269d75",
   "metadata": {},
   "outputs": [
    {
     "name": "stdout",
     "output_type": "stream",
     "text": [
      "Processing Stones: 100%|██████████████████████| 25/25 [00:00<00:00, 9644.74it/s]\n",
      "Day11 part 1 answer: 217812\n",
      "Processing Stones: 100%|███████████████████████| 75/75 [00:00<00:00, 661.97it/s]\n",
      "Day11 part 2 answer: 259112729857522\n"
     ]
    }
   ],
   "source": [
    "!python ./d11/solutions.py"
   ]
  },
  {
   "cell_type": "markdown",
   "id": "08e49a10-e6c8-4620-98a8-5aeee6921d64",
   "metadata": {},
   "source": [
    "# Day 12"
   ]
  },
  {
   "cell_type": "code",
   "execution_count": 12,
   "id": "e367ba11-8ed6-41b1-9db4-64a82ea1c23c",
   "metadata": {},
   "outputs": [
    {
     "name": "stdout",
     "output_type": "stream",
     "text": [
      "Day12 part 1 answer: 1396562\n",
      "Day12 part 2 answer: 844132\n"
     ]
    }
   ],
   "source": [
    "!python ./d12/solutions.py"
   ]
  },
  {
   "cell_type": "markdown",
   "id": "722f50de-088d-496f-83f2-f46f0db59421",
   "metadata": {},
   "source": [
    "# Day 13"
   ]
  },
  {
   "cell_type": "code",
   "execution_count": 13,
   "id": "0f4a6663-b5d7-4934-aab7-05a3c4783913",
   "metadata": {},
   "outputs": [
    {
     "name": "stdout",
     "output_type": "stream",
     "text": [
      "Day13 part 1 answer: 38839\n",
      "Day13 part 2 answer: 75200131617108\n"
     ]
    }
   ],
   "source": [
    "!python ./d13/solutions.py"
   ]
  },
  {
   "cell_type": "markdown",
   "id": "e8ee4c44-8760-4a3f-9602-d3db8f260aaa",
   "metadata": {},
   "source": [
    "# Day 14"
   ]
  },
  {
   "cell_type": "code",
   "execution_count": 31,
   "id": "0bdee79c-1052-47cd-a5f1-e0524c7a4a59",
   "metadata": {},
   "outputs": [
    {
     "name": "stdout",
     "output_type": "stream",
     "text": [
      "Day14 part 1 answer: 230172768\n",
      "Day14 part 2 answer: 8087\n"
     ]
    }
   ],
   "source": [
    "!python ./d14/solutions.py"
   ]
  },
  {
   "cell_type": "markdown",
   "id": "f2662aef-062c-4313-992f-b97445d9b393",
   "metadata": {},
   "source": [
    "# Day 15"
   ]
  },
  {
   "cell_type": "code",
   "execution_count": 15,
   "id": "fbe9d597-8c32-4786-a73c-433d84388b41",
   "metadata": {},
   "outputs": [
    {
     "name": "stdout",
     "output_type": "stream",
     "text": [
      "Day15 part 1 answer: 1563092\n",
      "Day15 part 2 answer: 1582688\n"
     ]
    }
   ],
   "source": [
    "!python ./d15/solutions.py"
   ]
  },
  {
   "cell_type": "markdown",
   "id": "6de46310-2e7d-454f-872b-111498f216f3",
   "metadata": {},
   "source": [
    "# Day 16"
   ]
  },
  {
   "cell_type": "code",
   "execution_count": 16,
   "id": "20c7e8f0-feb3-45ec-86c2-19855f2d3405",
   "metadata": {},
   "outputs": [
    {
     "name": "stdout",
     "output_type": "stream",
     "text": [
      "Day16 part 1 answer: 93436\n",
      "Day16 part 2 answer: 486\n"
     ]
    }
   ],
   "source": [
    "!python ./d16/solutions.py"
   ]
  },
  {
   "cell_type": "markdown",
   "id": "a3eac9a6-66fe-4bad-aedf-39dfec4e4df0",
   "metadata": {},
   "source": [
    "# Day 17"
   ]
  },
  {
   "cell_type": "code",
   "execution_count": 17,
   "id": "89009428-57c5-46c1-853a-c322e3a2c58a",
   "metadata": {},
   "outputs": [
    {
     "name": "stdout",
     "output_type": "stream",
     "text": [
      "Day17 part 1 answer: 2,0,4,2,7,0,1,0,3\n",
      "Day17 part 2 answer: 265601188299675\n"
     ]
    }
   ],
   "source": [
    "!python ./d17/solutions.py"
   ]
  },
  {
   "cell_type": "markdown",
   "id": "5299c6df-41b9-4fb5-8c0d-2b271cf8d437",
   "metadata": {},
   "source": [
    "# Day 18"
   ]
  },
  {
   "cell_type": "code",
   "execution_count": 27,
   "id": "fe1595d8-bc85-490e-93ed-8520d590691a",
   "metadata": {},
   "outputs": [
    {
     "name": "stdout",
     "output_type": "stream",
     "text": [
      "Day18 part 1 answer: 288\n",
      " 81%|██████████████████████████████▉       | 1977/2426 [00:07<00:01, 251.64it/s]\n",
      "Day18 part 2 answer: 52,5\n"
     ]
    }
   ],
   "source": [
    "!python ./d18/solutions.py"
   ]
  },
  {
   "cell_type": "markdown",
   "id": "00696ed0-a407-48dc-a8b1-afd105f505d4",
   "metadata": {},
   "source": [
    "# Day 19"
   ]
  },
  {
   "cell_type": "code",
   "execution_count": 19,
   "id": "2d36c559-d000-49d4-b440-d62228ea6730",
   "metadata": {},
   "outputs": [
    {
     "name": "stdout",
     "output_type": "stream",
     "text": [
      "100%|███████████████████████████████████████| 400/400 [00:00<00:00, 4512.78it/s]\n",
      "Day19 part 1 answer: 220\n",
      "100%|████████████████████████████████████████| 400/400 [00:00<00:00, 766.08it/s]\n",
      "Day19 part 2 answer: 565600047715343\n"
     ]
    }
   ],
   "source": [
    "!python ./d19/solutions.py"
   ]
  },
  {
   "cell_type": "markdown",
   "id": "7950169a-3400-46ad-9fd7-978066e2274e",
   "metadata": {},
   "source": [
    "# Day 20"
   ]
  },
  {
   "cell_type": "code",
   "execution_count": 20,
   "id": "8979e0f4-85d0-4ed9-bed0-e605e1fd9635",
   "metadata": {},
   "outputs": [
    {
     "name": "stdout",
     "output_type": "stream",
     "text": [
      "100%|███████████████████████████████████| 9357/9357 [00:00<00:00, 145454.52it/s]\n",
      "Day20 part 1 answer: 1323\n",
      "100%|██████████████████████████████████████| 9357/9357 [00:14<00:00, 647.05it/s]\n",
      "Day20 part 2 answer: 983905\n"
     ]
    }
   ],
   "source": [
    "!python ./d20/solutions.py"
   ]
  },
  {
   "cell_type": "markdown",
   "id": "6efd13bd-fe32-4b1f-9fff-0abf5eaabb71",
   "metadata": {},
   "source": [
    "# Day 21"
   ]
  },
  {
   "cell_type": "code",
   "execution_count": 21,
   "id": "9a584893-c795-4a5e-9467-1801384f1068",
   "metadata": {},
   "outputs": [
    {
     "name": "stdout",
     "output_type": "stream",
     "text": [
      "Part 1 result: 224326\n",
      "Part 2 result: 279638326609472\n"
     ]
    }
   ],
   "source": [
    "!python ./d21/solutions.py"
   ]
  },
  {
   "cell_type": "markdown",
   "id": "e250672b-3fa7-4068-8101-5c58c781410b",
   "metadata": {},
   "source": [
    "# Day 22"
   ]
  },
  {
   "cell_type": "code",
   "execution_count": 22,
   "id": "75a0a8d9-ffaf-4902-9635-74ca76312598",
   "metadata": {},
   "outputs": [
    {
     "name": "stdout",
     "output_type": "stream",
     "text": [
      "100%|█████████████████████████████████████| 2018/2018 [00:01<00:00, 1705.42it/s]\n",
      "Day22 part 1 answer: 17262627539\n",
      "100%|██████████████████████████████████████| 2018/2018 [00:05<00:00, 384.60it/s]\n",
      "Day22 part 2 answer: 1986\n"
     ]
    }
   ],
   "source": [
    "!python ./d22/solutions.py"
   ]
  },
  {
   "cell_type": "markdown",
   "id": "31c780b1-2ba8-4185-bccc-8b6a6df888e6",
   "metadata": {},
   "source": [
    "# Day 23"
   ]
  },
  {
   "cell_type": "code",
   "execution_count": 23,
   "id": "a3ff435d-1885-4f6f-8372-ef42e8d8d70c",
   "metadata": {},
   "outputs": [
    {
     "name": "stdout",
     "output_type": "stream",
     "text": [
      "100%|████████████████████████████████████████| 520/520 [00:00<00:00, 588.06it/s]\n",
      "Day23 part 1 answer: 1098\n",
      "Day23 part 2 answer: ar,ep,ih,ju,jx,le,ol,pk,pm,pp,xf,yu,zg\n"
     ]
    }
   ],
   "source": [
    "!python ./d23/solutions.py"
   ]
  },
  {
   "cell_type": "markdown",
   "id": "6bdadab9-5048-48a9-b818-a28ef85d56a1",
   "metadata": {},
   "source": [
    "# Day 24"
   ]
  },
  {
   "cell_type": "code",
   "execution_count": 24,
   "id": "5c606a06-2770-4c7d-bc49-fdab26a64242",
   "metadata": {},
   "outputs": [
    {
     "name": "stdout",
     "output_type": "stream",
     "text": [
      "Day24 part 1 answer: 61495910098126\n",
      "Day24 part 2 answer: css,cwt,gdd,jmv,pqt,z05,z09,z37\n"
     ]
    }
   ],
   "source": [
    "!python ./d24/solutions.py"
   ]
  },
  {
   "cell_type": "markdown",
   "id": "5b2da174-a4c5-48a2-968a-81afd573feef",
   "metadata": {},
   "source": [
    "# Day 25"
   ]
  },
  {
   "cell_type": "code",
   "execution_count": 25,
   "id": "e56d8146-7b53-463b-9486-1d42cae488ca",
   "metadata": {},
   "outputs": [
    {
     "name": "stdout",
     "output_type": "stream",
     "text": [
      "Day25 part 1 answer: 3395\n"
     ]
    }
   ],
   "source": [
    "!python ./d25/solutions.py"
   ]
  }
 ],
 "metadata": {
  "kernelspec": {
   "display_name": "Python 3 (ipykernel)",
   "language": "python",
   "name": "python3"
  },
  "language_info": {
   "codemirror_mode": {
    "name": "ipython",
    "version": 3
   },
   "file_extension": ".py",
   "mimetype": "text/x-python",
   "name": "python",
   "nbconvert_exporter": "python",
   "pygments_lexer": "ipython3",
   "version": "3.11.9"
  }
 },
 "nbformat": 4,
 "nbformat_minor": 5
}
